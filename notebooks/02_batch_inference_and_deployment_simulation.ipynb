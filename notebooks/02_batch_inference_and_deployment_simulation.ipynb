{
 "cells": [
  {
   "cell_type": "code",
   "execution_count": 24,
   "id": "7a0a07be-81a5-48bc-bc7a-3bb96587b197",
   "metadata": {},
   "outputs": [
    {
     "name": "stdout",
     "output_type": "stream",
     "text": [
      "Loaded trained model from disk.\n"
     ]
    }
   ],
   "source": [
    "# -------------------------------------------\n",
    "# Notebook 2 Batch Inference & Deployment Simulation\n",
    "# Simulating Azure ML Deployment Inference Pipeline\n",
    "# -------------------------------------------\n",
    "\n",
    "import pandas as pd\n",
    "import numpy as np\n",
    "import os\n",
    "import joblib\n",
    "from sklearn.metrics import accuracy_score, classification_report\n",
    "\n",
    "# Load trained model\n",
    "model_path = \"models/random_forest_model.pkl\"\n",
    "\n",
    "if not os.path.exists(model_path):\n",
    "    raise FileNotFoundError(\"Trained model not found. Please run Notebook 1 first.\")\n",
    "\n",
    "model = joblib.load(model_path)\n",
    "print(\"Loaded trained model from disk.\")\n"
   ]
  },
  {
   "cell_type": "code",
   "execution_count": 25,
   "id": "01dc1cd7-6e27-4260-928a-266c3c28fa74",
   "metadata": {},
   "outputs": [
    {
     "name": "stdout",
     "output_type": "stream",
     "text": [
      "Sampled new batch of 50 records.\n"
     ]
    }
   ],
   "source": [
    "# Load dataset saved in Notebook 1\n",
    "data_path = \"data/adult.csv\"\n",
    "if not os.path.exists(data_path):\n",
    "    raise FileNotFoundError(\"Dataset not found. Make sure 'adult.csv' is saved by Notebook 1.\")\n",
    "\n",
    "df = pd.read_csv(data_path)\n",
    "\n",
    "# Simulate a new batch of 50 unseen rows\n",
    "new_data = df.sample(n=50, random_state=42).copy()\n",
    "print(\"Sampled new batch of 50 records.\")\n"
   ]
  },
  {
   "cell_type": "code",
   "execution_count": 26,
   "id": "2c28fd26-a5ff-47d1-b8ff-5884753bacdd",
   "metadata": {},
   "outputs": [
    {
     "name": "stdout",
     "output_type": "stream",
     "text": [
      "Batch preprocessed and aligned with training features.\n"
     ]
    }
   ],
   "source": [
    "# Preprocessing\n",
    "new_data.replace('?', np.nan, inplace=True)\n",
    "new_data.dropna(inplace=True)\n",
    "\n",
    "# Encode target variable\n",
    "new_data['income'] = new_data['income'].apply(lambda x: 1 if '>50K' in x else 0)\n",
    "\n",
    "# One-hot encode categorical columns\n",
    "categorical_cols = new_data.select_dtypes(include='object').columns\n",
    "new_data = pd.get_dummies(new_data, columns=categorical_cols)\n",
    "\n",
    "# Separate features and labels\n",
    "y_true = new_data['income']\n",
    "X_batch = new_data.drop('income', axis=1)\n",
    "\n",
    "# Match feature columns with training data\n",
    "trained_columns = model.named_steps['scaler'].feature_names_in_\n",
    "X_batch = X_batch.reindex(columns=trained_columns, fill_value=0)\n",
    "\n",
    "print(\"Batch preprocessed and aligned with training features.\")\n"
   ]
  },
  {
   "cell_type": "code",
   "execution_count": 27,
   "id": "b1275fd9-6c63-4d3c-a989-33ea56c3290d",
   "metadata": {},
   "outputs": [
    {
     "name": "stdout",
     "output_type": "stream",
     "text": [
      " Batch Accuracy: 0.8776\n",
      "\n",
      " Classification Report:\n",
      "\n",
      "              precision    recall  f1-score   support\n",
      "\n",
      "           0       0.85      1.00      0.92        35\n",
      "           1       1.00      0.57      0.73        14\n",
      "\n",
      "    accuracy                           0.88        49\n",
      "   macro avg       0.93      0.79      0.82        49\n",
      "weighted avg       0.90      0.88      0.87        49\n",
      "\n"
     ]
    }
   ],
   "source": [
    "# Predict using the loaded model\n",
    "y_pred = model.predict(X_batch)\n",
    "\n",
    "# Evaluate performance\n",
    "accuracy = accuracy_score(y_true, y_pred)\n",
    "report = classification_report(y_true, y_pred)\n",
    "\n",
    "print(f\" Batch Accuracy: {accuracy:.4f}\")\n",
    "print(\"\\n Classification Report:\\n\")\n",
    "print(report)\n"
   ]
  },
  {
   "cell_type": "code",
   "execution_count": 28,
   "id": "eea5c465-7b68-40c4-9ad8-158a8d5d99db",
   "metadata": {},
   "outputs": [
    {
     "name": "stdout",
     "output_type": "stream",
     "text": [
      "Batch metrics saved to 'metrics/batch_metrics.json'.\n"
     ]
    }
   ],
   "source": [
    "import json\n",
    "\n",
    "metrics_output = {\n",
    "    \"batch_accuracy\": accuracy,\n",
    "    \"report\": classification_report(y_true, y_pred, output_dict=True)\n",
    "}\n",
    "\n",
    "with open(\"metrics/batch_metrics.json\", \"w\") as f:\n",
    "    json.dump(metrics_output, f, indent=4)\n",
    "\n",
    "print(\"Batch metrics saved to 'metrics/batch_metrics.json'.\")"
   ]
  }
 ],
 "metadata": {
  "kernelspec": {
   "display_name": "Python 3 (ipykernel)",
   "language": "python",
   "name": "python3"
  },
  "language_info": {
   "codemirror_mode": {
    "name": "ipython",
    "version": 3
   },
   "file_extension": ".py",
   "mimetype": "text/x-python",
   "name": "python",
   "nbconvert_exporter": "python",
   "pygments_lexer": "ipython3",
   "version": "3.12.4"
  }
 },
 "nbformat": 4,
 "nbformat_minor": 5
}
