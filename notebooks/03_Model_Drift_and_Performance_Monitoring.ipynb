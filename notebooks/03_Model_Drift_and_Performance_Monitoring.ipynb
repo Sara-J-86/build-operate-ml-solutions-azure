{
 "cells": [
  {
   "cell_type": "code",
   "execution_count": null,
   "id": "97c01872-2e8d-41cb-b975-8b4cece94314",
   "metadata": {},
   "outputs": [],
   "source": [
    "# -------------------------------------------\n",
    "# Notebook 3 Model Monitoring & Drift Detection\n",
    "# -------------------------------------------\n",
    "\n",
    "import pandas as pd\n",
    "import numpy as np\n",
    "import os\n",
    "import joblib\n",
    "import matplotlib.pyplot as plt\n",
    "import seaborn as sns\n",
    "from scipy.stats import ks_2samp, chi2_contingency\n",
    "\n",
    "# Ensure folders exist\n",
    "os.makedirs(\"data\", exist_ok=True)\n",
    "os.makedirs(\"drift_reports\", exist_ok=True)\n"
   ]
  },
  {
   "cell_type": "code",
   "execution_count": null,
   "id": "bcd4e6c9-4d3e-4c2f-832f-32acb031eb56",
   "metadata": {},
   "outputs": [],
   "source": [
    "# Load trained model\n",
    "model_path = \"models/random_forest_model.pkl\"\n",
    "if not os.path.exists(model_path):\n",
    "    raise FileNotFoundError(\"Trained model not found. Please run Notebook 1 first.\")\n",
    "\n",
    "model = joblib.load(model_path)\n",
    "print(\"Model loaded successfully.\")\n",
    "\n",
    "# Load the full training dataset\n",
    "train_df = pd.read_csv(\"data/adult.csv\")\n",
    "train_df.replace('?', np.nan, inplace=True)\n",
    "train_df.dropna(inplace=True)\n",
    "train_df['income'] = train_df['income'].apply(lambda x: 1 if '>50K' in x else 0)\n",
    "categorical_cols = train_df.select_dtypes(include='object').columns\n",
    "train_df = pd.get_dummies(train_df, columns=categorical_cols)\n",
    "\n",
    "X_train = train_df.drop(\"income\", axis=1)\n"
   ]
  },
  {
   "cell_type": "code",
   "execution_count": null,
   "id": "a27d7928-e371-4191-9d75-7717370498e1",
   "metadata": {},
   "outputs": [],
   "source": [
    "# Simulate \"new\" batch of unseen data\n",
    "batch_df = pd.read_csv(\"data/adult.csv\").sample(n=100, random_state=101).copy()\n",
    "\n",
    "# Preprocess batch the same way\n",
    "batch_df.replace('?', np.nan, inplace=True)\n",
    "batch_df.dropna(inplace=True)\n",
    "batch_df['income'] = batch_df['income'].apply(lambda x: 1 if '>50K' in x else 0)\n",
    "categorical_cols = batch_df.select_dtypes(include='object').columns\n",
    "batch_df = pd.get_dummies(batch_df, columns=categorical_cols)\n",
    "\n",
    "# Align batch columns with training\n",
    "batch_df = batch_df.reindex(columns=train_df.columns, fill_value=0)\n",
    "\n",
    "X_batch = batch_df.drop(\"income\", axis=1)\n"
   ]
  },
  {
   "cell_type": "code",
   "execution_count": null,
   "id": "7f038a85-399d-4df0-b19a-d8157ac46bf4",
   "metadata": {},
   "outputs": [],
   "source": [
    "# Kolmogorov–Smirnov test for numerical drift\n",
    "numerical_cols = X_train.select_dtypes(include=np.number).columns\n",
    "ks_results = []\n",
    "\n",
    "for col in numerical_cols:\n",
    "    stat, p = ks_2samp(X_train[col], X_batch[col])\n",
    "    ks_results.append((col, p))\n",
    "\n",
    "# Flagging drift where p < 0.05\n",
    "ks_drift = [(col, p) for col, p in ks_results if p < 0.05]\n",
    "print(f\"KS Drift Detected in {len(ks_drift)} of {len(numerical_cols)} features\")\n",
    "\n",
    "# Save KS drift report\n",
    "ks_df = pd.DataFrame(ks_results, columns=['feature', 'p_value'])\n",
    "ks_df['drift_detected'] = ks_df['p_value'] < 0.05\n",
    "ks_df.to_csv(\"drift_reports/ks_drift_report.csv\", index=False)\n"
   ]
  },
  {
   "cell_type": "code",
   "execution_count": null,
   "id": "50e2c973-e610-4552-9225-a7655d4f0fa2",
   "metadata": {},
   "outputs": [],
   "source": [
    "# Detect drift in categorical variables\n",
    "cat_columns = [col for col in X_train.columns if 'native-country_' in col or 'sex_' in col or 'race_' in col]\n",
    "chi2_results = []\n",
    "\n",
    "for col in cat_columns:\n",
    "    obs = pd.DataFrame({\n",
    "        \"train\": X_train[col].value_counts(),\n",
    "        \"batch\": X_batch[col].value_counts()\n",
    "    }).fillna(0)\n",
    "\n",
    "    stat, p, _, _ = chi2_contingency(obs.T)\n",
    "    chi2_results.append((col, p))\n",
    "\n",
    "# Flag drift\n",
    "chi2_drift = [(col, p) for col, p in chi2_results if p < 0.05]\n",
    "print(f\"Chi2 Drift Detected in {len(chi2_drift)} of {len(cat_columns)} features\")\n",
    "\n",
    "# Save Chi-squared report\n",
    "chi_df = pd.DataFrame(chi2_results, columns=['feature', 'p_value'])\n",
    "chi_df['drift_detected'] = chi_df['p_value'] < 0.05\n",
    "chi_df.to_csv(\"drift_reports/chi2_drift_report.csv\", index=False)\n"
   ]
  },
  {
   "cell_type": "code",
   "execution_count": null,
   "id": "fa71975e-4595-4ab3-9b1c-922971d5826f",
   "metadata": {},
   "outputs": [],
   "source": [
    "# Visualize one example of drifted feature\n",
    "if ks_drift:\n",
    "    feature = ks_drift[0][0]\n",
    "    plt.figure(figsize=(8, 5))\n",
    "    sns.kdeplot(X_train[feature], label='Train')\n",
    "    sns.kdeplot(X_batch[feature], label='Batch')\n",
    "    plt.title(f\"Drift Detected: {feature}\")\n",
    "    plt.legend()\n",
    "    plt.tight_layout()\n",
    "    plt.savefig(f\"drift_reports/{feature}_drift.png\")\n",
    "    plt.show()\n",
    "else:\n",
    "    print(\"No drifted numerical features to visualize.\")"
   ]
  }
 ],
 "metadata": {
  "kernelspec": {
   "display_name": "Python 3 (ipykernel)",
   "language": "python",
   "name": "python3"
  },
  "language_info": {
   "codemirror_mode": {
    "name": "ipython",
    "version": 3
   },
   "file_extension": ".py",
   "mimetype": "text/x-python",
   "name": "python",
   "nbconvert_exporter": "python",
   "pygments_lexer": "ipython3",
   "version": "3.12.4"
  }
 },
 "nbformat": 4,
 "nbformat_minor": 5
}
